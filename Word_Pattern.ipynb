{
 "cells": [
  {
   "cell_type": "code",
   "execution_count": 1,
   "metadata": {},
   "outputs": [],
   "source": [
    "import spacy\n",
    "nlp=spacy.load('en_core_web_lg')"
   ]
  },
  {
   "cell_type": "code",
   "execution_count": 25,
   "metadata": {},
   "outputs": [],
   "source": [
    "def get_vector():\n",
    "    l=[]\n",
    "    for i in range(3):\n",
    "        ip=input(\" Enter word \")\n",
    "        l.append(nlp.vocab[ip].vector)\n",
    "    return l[2]+l[1]-l[0]\n",
    "\n",
    "\n"
   ]
  },
  {
   "cell_type": "code",
   "execution_count": 26,
   "metadata": {},
   "outputs": [],
   "source": [
    "from scipy import spatial\n",
    "cos_similarity=lambda x,y:1-spatial.distance.cosine(x,y)"
   ]
  },
  {
   "cell_type": "code",
   "execution_count": 27,
   "metadata": {},
   "outputs": [],
   "source": [
    "def get_similarity():\n",
    "    v=get_vector()\n",
    "    pbl_words=[]\n",
    "    for word in nlp.vocab:\n",
    "        if word.has_vector:\n",
    "            if word.is_lower:\n",
    "                if word.is_alpha:\n",
    "                    similarity=cos_similarity(v,word.vector)\n",
    "                    pbl_words.append((word,similarity))\n",
    "    pbl_words=(sorted(pbl_words,key=lambda x:-x[-1])[:10])\n",
    "    return ([word[0].text for word in pbl_words[:10]])\n",
    "    "
   ]
  },
  {
   "cell_type": "code",
   "execution_count": 31,
   "metadata": {},
   "outputs": [
    {
     "name": "stdout",
     "output_type": "stream",
     "text": [
      " Enter word devil\n",
      " Enter word darkness\n",
      " Enter word god\n",
      "['darkness', 'god', 'heavens', 'gods', 'earth', 'heaven', 'eternal', 'dawn', 'sky', 'blackness']\n"
     ]
    }
   ],
   "source": [
    "answers= get_similarity()\n"
   ]
  },
  {
   "cell_type": "code",
   "execution_count": null,
   "metadata": {},
   "outputs": [],
   "source": []
  },
  {
   "cell_type": "code",
   "execution_count": null,
   "metadata": {},
   "outputs": [],
   "source": []
  }
 ],
 "metadata": {
  "kernelspec": {
   "display_name": "Python 3",
   "language": "python",
   "name": "python3"
  },
  "language_info": {
   "codemirror_mode": {
    "name": "ipython",
    "version": 3
   },
   "file_extension": ".py",
   "mimetype": "text/x-python",
   "name": "python",
   "nbconvert_exporter": "python",
   "pygments_lexer": "ipython3",
   "version": "3.7.3"
  }
 },
 "nbformat": 4,
 "nbformat_minor": 2
}
